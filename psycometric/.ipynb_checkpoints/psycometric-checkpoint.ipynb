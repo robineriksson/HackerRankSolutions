{
 "cells": [
  {
   "cell_type": "code",
   "execution_count": 28,
   "metadata": {},
   "outputs": [],
   "source": [
    "n = 5\n",
    "scores = [1,3,5,6,8]\n",
    "ql = 1\n",
    "lowerLimits = 2\n",
    "qu = 1\n",
    "upperLimits = 6"
   ]
  },
  {
   "cell_type": "markdown",
   "metadata": {},
   "source": [
    "the number of candidates inside of the inclusive range?"
   ]
  },
  {
   "cell_type": "code",
   "execution_count": 23,
   "metadata": {},
   "outputs": [],
   "source": [
    "def jobOffers0(scores, lowerLimits, upperLimits):\n",
    "    hit = 0\n",
    "    for s in scores:\n",
    "        if (s >= lowerLimits) & (s <= upperLimits):\n",
    "            hit += 1\n",
    "    return(hit)"
   ]
  },
  {
   "cell_type": "markdown",
   "metadata": {},
   "source": [
    "expecting: 3"
   ]
  },
  {
   "cell_type": "code",
   "execution_count": 24,
   "metadata": {},
   "outputs": [
    {
     "data": {
      "text/plain": [
       "3"
      ]
     },
     "execution_count": 24,
     "metadata": {},
     "output_type": "execute_result"
    }
   ],
   "source": [
    "jobOffers0(scores,lowerLimits,upperLimits)"
   ]
  },
  {
   "cell_type": "code",
   "execution_count": 53,
   "metadata": {},
   "outputs": [],
   "source": [
    "n = 3\n",
    "scores = [4, 8, 7, 5, 4]\n",
    "ql = 2\n",
    "lowerLimits = [2, 4]\n",
    "qu = 2\n",
    "upperLimits = [8, 4]"
   ]
  },
  {
   "cell_type": "code",
   "execution_count": 65,
   "metadata": {},
   "outputs": [],
   "source": [
    "def jobOffers1(scores, lowerLimits, upperLimits):\n",
    "    hit = list()\n",
    "    if type(lowerLimits) == int:\n",
    "        lowerLimits = [lowerLimits]\n",
    "        upperLimits = [upperLimits]\n",
    "\n",
    "    for i in range(len(lowerLimits)):\n",
    "        hit.append(0)\n",
    "        for s in scores:\n",
    "            if (s >= lowerLimits[i]) & (s <= upperLimits[i]):\n",
    "                hit[i] += 1\n",
    "    \n",
    "    return(hit)"
   ]
  },
  {
   "cell_type": "code",
   "execution_count": 66,
   "metadata": {},
   "outputs": [
    {
     "data": {
      "text/plain": [
       "[5, 2]"
      ]
     },
     "execution_count": 66,
     "metadata": {},
     "output_type": "execute_result"
    }
   ],
   "source": [
    "jobOffers1(scores,lowerLimits,upperLimits)"
   ]
  },
  {
   "cell_type": "code",
   "execution_count": 63,
   "metadata": {},
   "outputs": [],
   "source": [
    "def jobOffers(scores, lowerLimits, upperLimits):\n",
    "    hit = list()\n",
    "    \n",
    "    \n",
    "    rangelist = list(zip(lowerLimits,upperLimits))\n",
    "    for index, item in enumerate(rangelist):\n",
    "        hit.append(0)\n",
    "        for s in scores:\n",
    "            if (s >= item[0]) & (s <= item[1]):\n",
    "                hit[index] += 1\n",
    "    \n",
    "    return(hit)"
   ]
  },
  {
   "cell_type": "code",
   "execution_count": 64,
   "metadata": {},
   "outputs": [
    {
     "name": "stdout",
     "output_type": "stream",
     "text": [
      "5\n",
      "2\n"
     ]
    }
   ],
   "source": [
    "hits = jobOffers(scores,lowerLimits,upperLimits)\n",
    "for hit in hits:\n",
    "    print(hit)"
   ]
  },
  {
   "cell_type": "code",
   "execution_count": 59,
   "metadata": {},
   "outputs": [
    {
     "name": "stdout",
     "output_type": "stream",
     "text": [
      "0\n",
      "(2, 8)\n",
      "1\n",
      "(4, 4)\n"
     ]
    }
   ],
   "source": [
    "rangelist = list(zip(lowerLimits,upperLimits))\n",
    "for index, item in enumerate(rangelist):\n",
    "    print(index)\n",
    "    print(item)"
   ]
  }
 ],
 "metadata": {
  "kernelspec": {
   "display_name": "Python 3",
   "language": "python",
   "name": "python3"
  },
  "language_info": {
   "codemirror_mode": {
    "name": "ipython",
    "version": 3
   },
   "file_extension": ".py",
   "mimetype": "text/x-python",
   "name": "python",
   "nbconvert_exporter": "python",
   "pygments_lexer": "ipython3",
   "version": "3.7.0"
  }
 },
 "nbformat": 4,
 "nbformat_minor": 2
}
