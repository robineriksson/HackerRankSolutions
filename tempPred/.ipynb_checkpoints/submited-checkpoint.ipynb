{
 "cells": [
  {
   "cell_type": "code",
   "execution_count": 1,
   "metadata": {},
   "outputs": [
    {
     "ename": "SyntaxError",
     "evalue": "invalid syntax (<ipython-input-1-729b8c1df8ef>, line 4)",
     "output_type": "error",
     "traceback": [
      "\u001b[0;36m  File \u001b[0;32m\"<ipython-input-1-729b8c1df8ef>\"\u001b[0;36m, line \u001b[0;32m4\u001b[0m\n\u001b[0;31m    from sklearn.svm impor SVR\u001b[0m\n\u001b[0m                         ^\u001b[0m\n\u001b[0;31mSyntaxError\u001b[0m\u001b[0;31m:\u001b[0m invalid syntax\n"
     ]
    }
   ],
   "source": [
    "# Enter your code here. Read input from STDIN. Print output to STDOUT\n",
    "\n",
    "import numpy as np\n",
    "from sklearn.svm import SVR \n",
    "\n",
    "import pandas as pd\n",
    "\n",
    "N = int(input())\n",
    "tmax = list()\n",
    "tmin = list()\n",
    "missing = list()\n",
    "headers = input().strip().split()\n",
    "for i in range(N):\n",
    "    mtuple = input().strip().split()\n",
    "    tmax.append(mtuple[2])\n",
    "    tmin.append(mtuple[3])\n",
    "    # find the missing entries.\n",
    "    if(str(mtuple[2] + mtuple[3]).__contains__(\"Missing\")):\n",
    "        missing.append(i)\n",
    "\n",
    "# do data frame for ease of to num handeling\n",
    "train = pd.DataFrame({\"tmax\" : tmax, \"tmin\" : tmin}, dtype = float)\n",
    "train[\"tmin\"] = pd.to_numeric(train[\"tmin\"], errors='coerce')\n",
    "train[\"tmax\"] = pd.to_numeric(train[\"tmax\"], errors='coerce')\n",
    "\n",
    "# at what index do we need to predict=\n",
    "tmin_miss = train[\"tmin\"].isna()\n",
    "tmax_miss = train[\"tmax\"].isna()\n",
    "\n",
    "# prepare for training\n",
    "X_min = np.array(train.tmin[~(tmin_miss | tmax_miss)])\n",
    "X_min_train = y_min.reshape(y_min.shape[0],1)\n",
    "# all tmin where we don't have tmax\n",
    "X_min_test = np.array(train.tmin[tmax_miss])\n",
    "X_min_test = X_min_test.reshape(X_min_test.shape[0],1)\n",
    "\n",
    "\n",
    "X_max = np.array(train.tmax[~(tmin_miss | tmax_miss)])\n",
    "X_max_train = y_max.reshape(y_max.shape[0],1)\n",
    "# all tmax where we don't have tmin\n",
    "X_max_test = np.array(train.tmax[tmin_miss])\n",
    "X_max_test = X_max_test.reshape(X_max_test.shape[0],1)\n",
    "\n",
    "\n",
    "# init models\n",
    "model_lin_min = SVR(kernel=\"linear\")\n",
    "model_lin_max = SVR(kernel=\"linear\")\n",
    "# train models\n",
    "model_lin_min.fit(X_max_train,X_min_train)\n",
    "model_lin_max.fit(X_min_train,X_max_train)\n",
    "# predict\n",
    "lin_min_pred = model_lin_min.predict(X_max_test)\n",
    "lin_max_pred = model_lin_max.predict(X_min_test)\n",
    "\n",
    "j_min = 0\n",
    "j_max = 0\n",
    "for ind in missing:\n",
    "    if(np.isin(ind, train.tmin[tmin_miss].index)):\n",
    "        print(lin_min_pred[j_min])\n",
    "        j_min += 1\n",
    "    \n",
    "    if(np.isin(ind, train.tmax[tmax_miss].index)):\n",
    "        print(lin_max_pred[j_max])\n",
    "        j_max += 1\n",
    "\n"
   ]
  }
 ],
 "metadata": {
  "kernelspec": {
   "display_name": "Python 3",
   "language": "python",
   "name": "python3"
  },
  "language_info": {
   "codemirror_mode": {
    "name": "ipython",
    "version": 3
   },
   "file_extension": ".py",
   "mimetype": "text/x-python",
   "name": "python",
   "nbconvert_exporter": "python",
   "pygments_lexer": "ipython3",
   "version": "3.7.0"
  }
 },
 "nbformat": 4,
 "nbformat_minor": 2
}
