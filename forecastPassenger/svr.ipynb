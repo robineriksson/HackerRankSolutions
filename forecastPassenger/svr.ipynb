{
 "cells": [
  {
   "cell_type": "code",
   "execution_count": null,
   "metadata": {},
   "outputs": [],
   "source": [
    "# Enter your code here. Read input from STDIN. Print output to STDOUT\n",
    "import sys\n",
    "import numpy as np\n",
    "from sklearn import svm\n",
    "\n",
    "\n",
    "months = list()\n",
    "npgrs = list()\n",
    "\n",
    "\n",
    "num = int(input())\n",
    "X_test=range(num+1,num+13)\n",
    "\n",
    "for i in range(num):\n",
    "    mtuple=input().strip().split()\n",
    "    months.append(mtuple[0])\n",
    "    npgrs.append(int(mtuple[1]))\n",
    "\n",
    "months = range(1,num+1)\n",
    "clf=svm.SVR(kernel='rbf', C=1000, gamma=0.1)\n",
    "\n",
    "    \n",
    "\n",
    "\n",
    "X_m= np.array(months)\n",
    "Y_n=np.array(npgrs)\n",
    "\n",
    "X_m=X_m.reshape(X_m.shape[0], 1)\n",
    "\n",
    "\n",
    "clf.fit(X_m, Y_n)\n",
    "\n",
    "X_test = np.array(X_test)\n",
    "X_test = X_test.reshape(X_test.shape[0], 1)\n",
    "Y_pred=clf.predict(X_test)\n",
    "for yps in Y_pred:\n",
    "    print(int(yps))"
   ]
  }
 ],
 "metadata": {
  "kernelspec": {
   "display_name": "Python 3",
   "language": "python",
   "name": "python3"
  },
  "language_info": {
   "codemirror_mode": {
    "name": "ipython",
    "version": 3
   },
   "file_extension": ".py",
   "mimetype": "text/x-python",
   "name": "python",
   "nbconvert_exporter": "python",
   "pygments_lexer": "ipython3",
   "version": "3.7.0"
  }
 },
 "nbformat": 4,
 "nbformat_minor": 2
}
